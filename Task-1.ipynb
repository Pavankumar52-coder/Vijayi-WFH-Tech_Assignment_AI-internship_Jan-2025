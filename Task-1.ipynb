{
 "cells": [
  {
   "cell_type": "code",
   "execution_count": 21,
   "id": "a35c7375-4954-4845-8563-fafc1f86ebb2",
   "metadata": {},
   "outputs": [],
   "source": [
    "# Importing all necessary libraries and packages\n",
    "import re\n",
    "import nltk\n",
    "import spacy\n",
    "import gensim\n",
    "import string\n",
    "import numpy as np\n",
    "from gensim.models import Word2Vec\n",
    "from sklearn.decomposition import LatentDirichletAllocation\n",
    "from sklearn.feature_extraction.text import CountVectorizer\n",
    "from nltk.tokenize import sent_tokenize, word_tokenize\n",
    "from nltk.tag import pos_tag\n",
    "from nltk.corpus import stopwords"
   ]
  },
  {
   "cell_type": "code",
   "execution_count": 23,
   "id": "6cc4cd0b-cfca-4149-bc3b-cc5cdce5196e",
   "metadata": {},
   "outputs": [
    {
     "name": "stderr",
     "output_type": "stream",
     "text": [
      "[nltk_data] Downloading package punkt to\n",
      "[nltk_data]     C:\\Users\\pavan\\AppData\\Roaming\\nltk_data...\n",
      "[nltk_data]   Package punkt is already up-to-date!\n",
      "[nltk_data] Downloading package stopwords to\n",
      "[nltk_data]     C:\\Users\\pavan\\AppData\\Roaming\\nltk_data...\n",
      "[nltk_data]   Package stopwords is already up-to-date!\n",
      "[nltk_data] Downloading package punkt_tab to\n",
      "[nltk_data]     C:\\Users\\pavan\\AppData\\Roaming\\nltk_data...\n",
      "[nltk_data]   Package punkt_tab is already up-to-date!\n",
      "[nltk_data] Downloading package averaged_perceptron_tagger_eng to\n",
      "[nltk_data]     C:\\Users\\pavan\\AppData\\Roaming\\nltk_data...\n",
      "[nltk_data]   Package averaged_perceptron_tagger_eng is already up-to-\n",
      "[nltk_data]       date!\n"
     ]
    },
    {
     "data": {
      "text/plain": [
       "True"
      ]
     },
     "execution_count": 23,
     "metadata": {},
     "output_type": "execute_result"
    }
   ],
   "source": [
    "# Download necessary NLTK resources\n",
    "nltk.download('punkt')\n",
    "nltk.download('stopwords')\n",
    "nltk.download('punkt_tab')\n",
    "nltk.download('averaged_perceptron_tagger_eng')"
   ]
  },
  {
   "cell_type": "code",
   "execution_count": 25,
   "id": "fe3293c0-f2b8-41a8-a940-38ee264c25e5",
   "metadata": {},
   "outputs": [],
   "source": [
    "# Loading Spacy model(small model) for Named Entity Recognition (NER)\n",
    "nlp = spacy.load(\"en_core_web_sm\")"
   ]
  },
  {
   "cell_type": "code",
   "execution_count": 27,
   "id": "c1bb0d64-51cb-4d6b-8db8-59429ba917db",
   "metadata": {},
   "outputs": [],
   "source": [
    "# Function to preprocessing the text\n",
    "def preprocess_text(text):\n",
    "    text = text.lower()\n",
    "    text = re.sub(r'\\d+', '', text)  # Remove numbers\n",
    "    text = text.translate(str.maketrans('', '', string.punctuation))  # Remove punctuation\n",
    "    words = word_tokenize(text)\n",
    "    words = [word for word in words if word not in stopwords.words('english')]\n",
    "    return \" \".join(words)"
   ]
  },
  {
   "cell_type": "code",
   "execution_count": 29,
   "id": "c1215ead-8e0e-4a10-bc45-070f1827c153",
   "metadata": {},
   "outputs": [],
   "source": [
    "# Function to identify tasks in given text\n",
    "def extract_tasks(text):\n",
    "    sentences = sent_tokenize(text)\n",
    "    tasks = []\n",
    "    for sent in sentences:\n",
    "        words = word_tokenize(sent)\n",
    "        pos_tags = pos_tag(words)\n",
    "        \n",
    "        # Heuristic: If sentence contains modal verbs like 'must', 'should', 'has to'\n",
    "        if any(word in sent.lower() for word in ['must', 'should', 'has to', 'needs to', 'required to']):\n",
    "            tasks.append(sent)\n",
    "        \n",
    "        # Heuristic: If sentence starts with a verb in imperative form\n",
    "        if pos_tags and pos_tags[0][1] in ['VB', 'VBP']:\n",
    "            tasks.append(sent)\n",
    "    \n",
    "    return tasks"
   ]
  },
  {
   "cell_type": "code",
   "execution_count": 31,
   "id": "d9c4072f-0d83-4ef9-9fd9-fb4059974b28",
   "metadata": {},
   "outputs": [],
   "source": [
    "# Function to extract entities from text like who has to do the task and deadline\n",
    "def extract_entities(sentence):\n",
    "    doc = nlp(sentence)\n",
    "    person = None\n",
    "    deadline = None\n",
    "    \n",
    "    for ent in doc.ents:\n",
    "        if ent.label_ == \"PERSON\":\n",
    "            person = ent.text\n",
    "        if ent.label_ in [\"TIME\", \"DATE\"]:\n",
    "            deadline = ent.text\n",
    "    \n",
    "    return person, deadline"
   ]
  },
  {
   "cell_type": "code",
   "execution_count": 33,
   "id": "d68c14ab-d089-47d0-b657-415f9af8d75e",
   "metadata": {},
   "outputs": [],
   "source": [
    "# Function to categorize tasks using Topic Modeling\n",
    "def categorize_tasks(tasks):\n",
    "    vectorizer = CountVectorizer()\n",
    "    X = vectorizer.fit_transform(tasks)\n",
    "    lda = LatentDirichletAllocation(n_components=3, random_state=42)  # 3 categories\n",
    "    lda.fit(X)\n",
    "    categories = lda.transform(X).argmax(axis=1)\n",
    "    \n",
    "    category_names = {0: 'Personal Tasks', 1: 'Work Tasks', 2: 'Miscellaneous'}\n",
    "    categorized_tasks = [(tasks[i], category_names[categories[i]]) for i in range(len(tasks))]\n",
    "    \n",
    "    return categorized_tasks"
   ]
  },
  {
   "cell_type": "code",
   "execution_count": 35,
   "id": "493f7c69-760f-4009-bca1-5bb09c4a8c56",
   "metadata": {},
   "outputs": [],
   "source": [
    "# Main function to process text and generate the required output\n",
    "def process_text(text):\n",
    "    clean_text = preprocess_text(text)\n",
    "    extracted_tasks = extract_tasks(text)\n",
    "    categorized_tasks = categorize_tasks(extracted_tasks)\n",
    "    \n",
    "    structured_output = []\n",
    "    for task, category in categorized_tasks:\n",
    "        person, deadline = extract_entities(task)\n",
    "        structured_output.append({\n",
    "            \"task\": task,\n",
    "            \"category\": category,\n",
    "            \"assigned_to\": person if person else \"Unknown\",\n",
    "            \"deadline\": deadline if deadline else \"No deadline mentioned\"\n",
    "        })\n",
    "    \n",
    "    return structured_output"
   ]
  },
  {
   "cell_type": "code",
   "execution_count": 37,
   "id": "a7263499-16b1-4f4f-b636-2df793a31f0f",
   "metadata": {},
   "outputs": [
    {
     "name": "stdout",
     "output_type": "stream",
     "text": [
      "{'task': '\\nAisha needs to submit the assignment by Friday.', 'category': 'Miscellaneous', 'assigned_to': 'Aisha', 'deadline': 'Friday'}\n",
      "{'task': 'Michael should call the client before noon.', 'category': 'Work Tasks', 'assigned_to': 'Michael', 'deadline': 'noon'}\n",
      "{'task': 'The team must complete the project presentation by next Monday.', 'category': 'Work Tasks', 'assigned_to': 'Unknown', 'deadline': 'next Monday'}\n"
     ]
    }
   ],
   "source": [
    "# Sample input text for testing\n",
    "text = \"\"\"\n",
    "Aisha needs to submit the assignment by Friday. \n",
    "Michael should call the client before noon. \n",
    "The team must complete the project presentation by next Monday.\n",
    "\"\"\"\n",
    "\n",
    "# Printing the desired output\n",
    "output = process_text(text)\n",
    "for item in output:\n",
    "    print(item)"
   ]
  }
 ],
 "metadata": {
  "kernelspec": {
   "display_name": "Python 3 (ipykernel)",
   "language": "python",
   "name": "python3"
  },
  "language_info": {
   "codemirror_mode": {
    "name": "ipython",
    "version": 3
   },
   "file_extension": ".py",
   "mimetype": "text/x-python",
   "name": "python",
   "nbconvert_exporter": "python",
   "pygments_lexer": "ipython3",
   "version": "3.12.7"
  }
 },
 "nbformat": 4,
 "nbformat_minor": 5
}
